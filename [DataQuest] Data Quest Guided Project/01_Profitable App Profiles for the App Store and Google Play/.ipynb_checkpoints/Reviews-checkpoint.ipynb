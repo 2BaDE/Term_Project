{
 "cells": [
  {
   "cell_type": "code",
   "execution_count": 1,
   "id": "ca8452f9",
   "metadata": {},
   "outputs": [],
   "source": [
    "from csv import reader \n",
    "\n",
    "def open_dataset(file_name, header = True) : \n",
    "    opened_file = open(file_name)\n",
    "    read_file = reader(opened_file)\n",
    "    data = list(read_file) \n",
    "    if header : \n",
    "        return data[1:], data[0]\n",
    "    else : \n",
    "        return data \n",
    "    \n",
    "apple_apps, apple_header = open_dataset('AppleStore.csv')\n",
    "android_apps, android_header = open_dataset('googleplaystore.csv') "
   ]
  },
  {
   "cell_type": "code",
   "execution_count": 4,
   "id": "db6a3a39",
   "metadata": {},
   "outputs": [
    {
     "name": "stdout",
     "output_type": "stream",
     "text": [
      "Header of AppleStore : ['id', 'track_name', 'size_bytes', 'currency', 'price', 'rating_count_tot', 'rating_count_ver', 'user_rating', 'user_rating_ver', 'ver', 'cont_rating', 'prime_genre', 'sup_devices.num', 'ipadSc_urls.num', 'lang.num', 'vpp_lic']\n",
      "\n",
      "['284882215', 'Facebook', '389879808', 'USD', '0.0', '2974676', '212', '3.5', '3.5', '95.0', '4+', 'Social Networking', '37', '1', '29', '1']\n",
      "\n",
      "\n",
      "['389801252', 'Instagram', '113954816', 'USD', '0.0', '2161558', '1289', '4.5', '4.0', '10.23', '12+', 'Photo & Video', '37', '0', '29', '1']\n",
      "\n",
      "\n",
      "['529479190', 'Clash of Clans', '116476928', 'USD', '0.0', '2130805', '579', '4.5', '4.5', '9.24.12', '9+', 'Games', '38', '5', '18', '1']\n",
      "\n",
      "\n",
      "Number of rows :  7197\n",
      "Number of columns :  16\n",
      "\n",
      "\n",
      "Header of googleplay : ['App', 'Category', 'Rating', 'Reviews', 'Size', 'Installs', 'Type', 'Price', 'Content Rating', 'Genres', 'Last Updated', 'Current Ver', 'Android Ver']\n",
      "\n",
      "['Photo Editor & Candy Camera & Grid & ScrapBook', 'ART_AND_DESIGN', '4.1', '159', '19M', '10,000+', 'Free', '0', 'Everyone', 'Art & Design', 'January 7, 2018', '1.0.0', '4.0.3 and up']\n",
      "\n",
      "\n",
      "['Coloring book moana', 'ART_AND_DESIGN', '3.9', '967', '14M', '500,000+', 'Free', '0', 'Everyone', 'Art & Design;Pretend Play', 'January 15, 2018', '2.0.0', '4.0.3 and up']\n",
      "\n",
      "\n",
      "['U Launcher Lite – FREE Live Cool Themes, Hide Apps', 'ART_AND_DESIGN', '4.7', '87510', '8.7M', '5,000,000+', 'Free', '0', 'Everyone', 'Art & Design', 'August 1, 2018', '1.2.4', '4.0.3 and up']\n",
      "\n",
      "\n",
      "Number of rows :  10841\n",
      "Number of columns :  13\n"
     ]
    }
   ],
   "source": [
    "def explore_data(dataset, start, end, rows_and_columns = False) :\n",
    "    dataset_slice = dataset[start:end]\n",
    "    for row in dataset_slice : \n",
    "        print(row)\n",
    "        print('\\n')\n",
    "    \n",
    "    if rows_and_columns : \n",
    "        print(\"Number of rows : \", len(dataset))\n",
    "        print(\"Number of columns : \", len(dataset[0]))\n",
    "    \n",
    "print(f'Header of AppleStore : {apple_header}\\n')\n",
    "explore_data(apple_apps, 0, 3, rows_and_columns = True)\n",
    "print('\\n')\n",
    "\n",
    "print(f'Header of googleplay : {android_header}\\n')\n",
    "explore_data(android_apps, 0, 3, rows_and_columns = True)"
   ]
  },
  {
   "cell_type": "code",
   "execution_count": 6,
   "id": "8904cf1c",
   "metadata": {},
   "outputs": [
    {
     "name": "stdout",
     "output_type": "stream",
     "text": [
      "Number of duplicated apps : 1180\n",
      "Expected length : 9659\n"
     ]
    }
   ],
   "source": [
    "# Drop wrong data \n",
    "del android_apps[10472]\n",
    "\n",
    "# Drop duplicates data \n",
    "\n",
    "duplicate_apps = []\n",
    "unique_apps = []\n",
    "for app in android_apps : \n",
    "    name = app[0]\n",
    "    \n",
    "    if name in unique_apps : \n",
    "        duplicate_apps.append(name) \n",
    "    else : \n",
    "        unique_apps.append(name) \n",
    "        \n",
    "print(f\"Number of duplicated apps : {len(duplicate_apps)}\")\n",
    "print(f\"Expected length : {len(android_apps) - len(duplicate_apps)}\")\n",
    "\n",
    "# Set criteria for drop duplicates\n",
    "reviews_max = {}\n",
    "for app in android_apps : \n",
    "    name = app[0]\n",
    "    n_reviews = float(app[3])\n",
    "    \n",
    "    if (name in reviews_max) and (reviews_max[name] < n_reviews) : \n",
    "        reviews_max[name] = n_reviews\n",
    "    elif (name not in reviews_max) : \n",
    "        reviews_max[name] = n_reviews\n",
    "    \n",
    "# Drop and store dataset \n",
    "android_clean = []\n",
    "already_added = [] \n",
    "for app in android_apps : \n",
    "    name = app[0]\n",
    "    n_reviews = float(app[3])\n",
    "    \n",
    "    if (n_reviews == reviews_max[name]) and (name not in already_added) : \n",
    "        android_clean.append(app)\n",
    "        already_added.append(name) "
   ]
  }
 ],
 "metadata": {
  "kernelspec": {
   "display_name": "Python 3",
   "language": "python",
   "name": "python3"
  },
  "language_info": {
   "codemirror_mode": {
    "name": "ipython",
    "version": 3
   },
   "file_extension": ".py",
   "mimetype": "text/x-python",
   "name": "python",
   "nbconvert_exporter": "python",
   "pygments_lexer": "ipython3",
   "version": "3.8.8"
  },
  "toc": {
   "base_numbering": 1,
   "nav_menu": {},
   "number_sections": true,
   "sideBar": true,
   "skip_h1_title": false,
   "title_cell": "Table of Contents",
   "title_sidebar": "Contents",
   "toc_cell": false,
   "toc_position": {},
   "toc_section_display": true,
   "toc_window_display": false
  },
  "varInspector": {
   "cols": {
    "lenName": 16,
    "lenType": 16,
    "lenVar": 40
   },
   "kernels_config": {
    "python": {
     "delete_cmd_postfix": "",
     "delete_cmd_prefix": "del ",
     "library": "var_list.py",
     "varRefreshCmd": "print(var_dic_list())"
    },
    "r": {
     "delete_cmd_postfix": ") ",
     "delete_cmd_prefix": "rm(",
     "library": "var_list.r",
     "varRefreshCmd": "cat(var_dic_list()) "
    }
   },
   "types_to_exclude": [
    "module",
    "function",
    "builtin_function_or_method",
    "instance",
    "_Feature"
   ],
   "window_display": false
  }
 },
 "nbformat": 4,
 "nbformat_minor": 5
}
