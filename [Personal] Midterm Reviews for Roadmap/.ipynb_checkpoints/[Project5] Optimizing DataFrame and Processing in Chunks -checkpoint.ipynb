{
 "cells": [
  {
   "cell_type": "markdown",
   "id": "e9847710",
   "metadata": {},
   "source": [
    "# <center> Optimizing CarPrice Dataset in Chunks "
   ]
  },
  {
   "cell_type": "markdown",
   "id": "ebd1a5e7",
   "metadata": {},
   "source": [
    "# Introduction \n",
    "\n",
    "## 1.1 Problem Statement \n",
    "\n",
    "A Chinese automobile company Geely Auto aspires to enter the US market by setting up their manufacturing unit there and producing cars locally to give competition to their US and European counterparts.\n",
    "\n",
    "They have contracted an automobile consulting company to unsderstand the factors on which the pricing of cars depends. Specifically, they want to understand the factors affecting the pricing of cars in the American market, since those may be very different from the Chinese market.\n",
    "\n",
    "The company wants to know :\n",
    "\n",
    "- Which variables are significant in predicting the price of a car.\n",
    "- How well those variables describes the price of car.\n",
    "- Based on various market surveys, the consulting firm has gathered a large data set of different types of cars across American market.\n",
    "\n",
    "## 1.2 What is Chunks? \n",
    "\n",
    "Even after optimizing the data type of the data frame and selecting the appropriate column, the size of the dataset may not be suitable for memory. At this time, it is more efficients to process the entire data frame in Chunk units than to load it into memory. Only a portion of the entire row should be used in memory for a given time. In other words, we need to process tasks using only a fraction of the data, immediately combine the results, and finally put them back together. \n",
    "\n",
    "## 1.3 Data Descriptions\n",
    "\n",
    "| |Features|Description|\n",
    "|:---:|:---:|:---:| \n",
    "|1|Car_ID| Unique id of each observation (Integer) | \n",
    "|2|Symboling| Its assigned insurance risk rating, A value of +3 indicates that the auto is risky, -3 that it is probably pretty safe (Categorical) |\n",
    "|3|carCompany| Name of car company (Categorical) |\n",
    "|4|fueltype| Car fuel type i.e. gas or disel (Categorical) | \n",
    "|5|aspiration| Aspiration used in a car (Categorical) |\n",
    "|7|carbody|\tbody of car (Categorical) | \n",
    "|8|drivewheel| type of drive wheel (Categorical) | \n",
    "|9|\tenginelocation|\tLocation of car engine (Categorical) | \n",
    "|10|wheelbase| Weelbase of car (Numeric) | \n",
    "|11|carlength| Length of car (Numeric) | \n",
    "|12|carwidth| Width of car (Numeric) | \n",
    "|13|carheight| height of car (Numeric) | \n",
    "|14|curbweight|\tThe weight of a car without occupants or baggage. (Numeric) | \n",
    "|15|enginetype|\tType of engine. (Categorical) | \n",
    "|16|cylindernumber|\tcylinder placed in the car (Categorical) | \n",
    "|17|enginesize|\tSize of car (Numeric) | \n",
    "|18|fuelsystem|\tFuel system of car (Categorical) |\n",
    "|19|boreratio| Boreratio of car (Numeric) | \n",
    "|20|stroke|\tStroke or volume inside the engine (Numeric) | \n",
    "|21|compressionratio| compression ratio of car (Numeric) | \n",
    "|22|horsepower|\tHorsepower (Numeric) | \n",
    "|23|peakrpm| car peak rpm (Numeric) | \n",
    "|24|citympg| Mileage in city (Numeric) | \n",
    "|25|highwaympg|\tMileage on highway (Numeric) | \n",
    "|26|price(Dependent variable)| Price of car (Numeric) | \n",
    "\n",
    "\n",
    "## 1.4 Source of Data \n",
    "\n",
    "- **Competition** : https://www.kaggle.com/datasets/hellbuoy/car-price-prediction\n",
    "- **Source**: https://archive.ics.uci.edu/ml/datasets/Automobile"
   ]
  },
  {
   "cell_type": "markdown",
   "id": "d50f808b",
   "metadata": {},
   "source": [
    "# 2. Purpose of this Project \n",
    "\n",
    "We will optimize the dataframe and processing in situation only 0.05 megabytes of memory available. "
   ]
  },
  {
   "cell_type": "markdown",
   "id": "8e5782c1",
   "metadata": {},
   "source": [
    "# 3. Estimating the amount of memory "
   ]
  },
  {
   "cell_type": "markdown",
   "id": "5e0b3d70",
   "metadata": {},
   "source": [
    "## 3.1 Import dataset"
   ]
  },
  {
   "cell_type": "code",
   "execution_count": 1,
   "id": "9e4cb176",
   "metadata": {},
   "outputs": [
    {
     "data": {
      "text/html": [
       "<div>\n",
       "<style scoped>\n",
       "    .dataframe tbody tr th:only-of-type {\n",
       "        vertical-align: middle;\n",
       "    }\n",
       "\n",
       "    .dataframe tbody tr th {\n",
       "        vertical-align: top;\n",
       "    }\n",
       "\n",
       "    .dataframe thead th {\n",
       "        text-align: right;\n",
       "    }\n",
       "</style>\n",
       "<table border=\"1\" class=\"dataframe\">\n",
       "  <thead>\n",
       "    <tr style=\"text-align: right;\">\n",
       "      <th></th>\n",
       "      <th>car_ID</th>\n",
       "      <th>symboling</th>\n",
       "      <th>CarName</th>\n",
       "      <th>fueltype</th>\n",
       "      <th>aspiration</th>\n",
       "      <th>doornumber</th>\n",
       "      <th>carbody</th>\n",
       "      <th>drivewheel</th>\n",
       "      <th>enginelocation</th>\n",
       "      <th>wheelbase</th>\n",
       "      <th>carlength</th>\n",
       "      <th>carwidth</th>\n",
       "      <th>carheight</th>\n",
       "      <th>curbweight</th>\n",
       "      <th>enginetype</th>\n",
       "      <th>cylindernumber</th>\n",
       "      <th>enginesize</th>\n",
       "      <th>fuelsystem</th>\n",
       "      <th>boreratio</th>\n",
       "      <th>stroke</th>\n",
       "      <th>compressionratio</th>\n",
       "      <th>horsepower</th>\n",
       "      <th>peakrpm</th>\n",
       "      <th>citympg</th>\n",
       "      <th>highwaympg</th>\n",
       "      <th>price</th>\n",
       "    </tr>\n",
       "  </thead>\n",
       "  <tbody>\n",
       "    <tr>\n",
       "      <th>0</th>\n",
       "      <td>1</td>\n",
       "      <td>3</td>\n",
       "      <td>alfa-romero giulia</td>\n",
       "      <td>gas</td>\n",
       "      <td>std</td>\n",
       "      <td>two</td>\n",
       "      <td>convertible</td>\n",
       "      <td>rwd</td>\n",
       "      <td>front</td>\n",
       "      <td>88.6</td>\n",
       "      <td>168.8</td>\n",
       "      <td>64.1</td>\n",
       "      <td>48.8</td>\n",
       "      <td>2548</td>\n",
       "      <td>dohc</td>\n",
       "      <td>four</td>\n",
       "      <td>130</td>\n",
       "      <td>mpfi</td>\n",
       "      <td>3.47</td>\n",
       "      <td>2.68</td>\n",
       "      <td>9</td>\n",
       "      <td>111</td>\n",
       "      <td>5000</td>\n",
       "      <td>21</td>\n",
       "      <td>27</td>\n",
       "      <td>13495</td>\n",
       "    </tr>\n",
       "    <tr>\n",
       "      <th>1</th>\n",
       "      <td>2</td>\n",
       "      <td>3</td>\n",
       "      <td>alfa-romero stelvio</td>\n",
       "      <td>gas</td>\n",
       "      <td>std</td>\n",
       "      <td>two</td>\n",
       "      <td>convertible</td>\n",
       "      <td>rwd</td>\n",
       "      <td>front</td>\n",
       "      <td>88.6</td>\n",
       "      <td>168.8</td>\n",
       "      <td>64.1</td>\n",
       "      <td>48.8</td>\n",
       "      <td>2548</td>\n",
       "      <td>dohc</td>\n",
       "      <td>four</td>\n",
       "      <td>130</td>\n",
       "      <td>mpfi</td>\n",
       "      <td>3.47</td>\n",
       "      <td>2.68</td>\n",
       "      <td>9</td>\n",
       "      <td>111</td>\n",
       "      <td>5000</td>\n",
       "      <td>21</td>\n",
       "      <td>27</td>\n",
       "      <td>16500</td>\n",
       "    </tr>\n",
       "    <tr>\n",
       "      <th>2</th>\n",
       "      <td>3</td>\n",
       "      <td>1</td>\n",
       "      <td>alfa-romero Quadrifoglio</td>\n",
       "      <td>gas</td>\n",
       "      <td>std</td>\n",
       "      <td>two</td>\n",
       "      <td>hatchback</td>\n",
       "      <td>rwd</td>\n",
       "      <td>front</td>\n",
       "      <td>94.5</td>\n",
       "      <td>171.2</td>\n",
       "      <td>65.5</td>\n",
       "      <td>52.4</td>\n",
       "      <td>2823</td>\n",
       "      <td>ohcv</td>\n",
       "      <td>six</td>\n",
       "      <td>152</td>\n",
       "      <td>mpfi</td>\n",
       "      <td>2.68</td>\n",
       "      <td>3.47</td>\n",
       "      <td>9</td>\n",
       "      <td>154</td>\n",
       "      <td>5000</td>\n",
       "      <td>19</td>\n",
       "      <td>26</td>\n",
       "      <td>16500</td>\n",
       "    </tr>\n",
       "    <tr>\n",
       "      <th>3</th>\n",
       "      <td>4</td>\n",
       "      <td>2</td>\n",
       "      <td>audi 100 ls</td>\n",
       "      <td>gas</td>\n",
       "      <td>std</td>\n",
       "      <td>four</td>\n",
       "      <td>sedan</td>\n",
       "      <td>fwd</td>\n",
       "      <td>front</td>\n",
       "      <td>99.8</td>\n",
       "      <td>176.6</td>\n",
       "      <td>66.2</td>\n",
       "      <td>54.3</td>\n",
       "      <td>2337</td>\n",
       "      <td>ohc</td>\n",
       "      <td>four</td>\n",
       "      <td>109</td>\n",
       "      <td>mpfi</td>\n",
       "      <td>3.19</td>\n",
       "      <td>3.40</td>\n",
       "      <td>10</td>\n",
       "      <td>102</td>\n",
       "      <td>5500</td>\n",
       "      <td>24</td>\n",
       "      <td>30</td>\n",
       "      <td>13950</td>\n",
       "    </tr>\n",
       "    <tr>\n",
       "      <th>4</th>\n",
       "      <td>5</td>\n",
       "      <td>2</td>\n",
       "      <td>audi 100ls</td>\n",
       "      <td>gas</td>\n",
       "      <td>std</td>\n",
       "      <td>four</td>\n",
       "      <td>sedan</td>\n",
       "      <td>4wd</td>\n",
       "      <td>front</td>\n",
       "      <td>99.4</td>\n",
       "      <td>176.6</td>\n",
       "      <td>66.4</td>\n",
       "      <td>54.3</td>\n",
       "      <td>2824</td>\n",
       "      <td>ohc</td>\n",
       "      <td>five</td>\n",
       "      <td>136</td>\n",
       "      <td>mpfi</td>\n",
       "      <td>3.19</td>\n",
       "      <td>3.40</td>\n",
       "      <td>8</td>\n",
       "      <td>115</td>\n",
       "      <td>5500</td>\n",
       "      <td>18</td>\n",
       "      <td>22</td>\n",
       "      <td>17450</td>\n",
       "    </tr>\n",
       "  </tbody>\n",
       "</table>\n",
       "</div>"
      ],
      "text/plain": [
       "   car_ID  symboling                   CarName fueltype aspiration doornumber  \\\n",
       "0       1          3        alfa-romero giulia      gas        std        two   \n",
       "1       2          3       alfa-romero stelvio      gas        std        two   \n",
       "2       3          1  alfa-romero Quadrifoglio      gas        std        two   \n",
       "3       4          2               audi 100 ls      gas        std       four   \n",
       "4       5          2                audi 100ls      gas        std       four   \n",
       "\n",
       "       carbody drivewheel enginelocation  wheelbase  carlength  carwidth  \\\n",
       "0  convertible        rwd          front       88.6      168.8      64.1   \n",
       "1  convertible        rwd          front       88.6      168.8      64.1   \n",
       "2    hatchback        rwd          front       94.5      171.2      65.5   \n",
       "3        sedan        fwd          front       99.8      176.6      66.2   \n",
       "4        sedan        4wd          front       99.4      176.6      66.4   \n",
       "\n",
       "   carheight  curbweight enginetype cylindernumber  enginesize fuelsystem  \\\n",
       "0       48.8        2548       dohc           four         130       mpfi   \n",
       "1       48.8        2548       dohc           four         130       mpfi   \n",
       "2       52.4        2823       ohcv            six         152       mpfi   \n",
       "3       54.3        2337        ohc           four         109       mpfi   \n",
       "4       54.3        2824        ohc           five         136       mpfi   \n",
       "\n",
       "   boreratio  stroke  compressionratio  horsepower  peakrpm  citympg  \\\n",
       "0       3.47    2.68                 9         111     5000       21   \n",
       "1       3.47    2.68                 9         111     5000       21   \n",
       "2       2.68    3.47                 9         154     5000       19   \n",
       "3       3.19    3.40                10         102     5500       24   \n",
       "4       3.19    3.40                 8         115     5500       18   \n",
       "\n",
       "   highwaympg  price  \n",
       "0          27  13495  \n",
       "1          27  16500  \n",
       "2          26  16500  \n",
       "3          30  13950  \n",
       "4          22  17450  "
      ]
     },
     "execution_count": 1,
     "metadata": {},
     "output_type": "execute_result"
    }
   ],
   "source": [
    "cars = pd.read_csv('Datasets/CarPrice_Assignment.csv', nrows=5)\n",
    "cars"
   ]
  },
  {
   "cell_type": "code",
   "execution_count": 2,
   "id": "994671f8",
   "metadata": {
    "scrolled": true
   },
   "outputs": [
    {
     "data": {
      "text/plain": [
       "0.07144641876220703"
      ]
     },
     "execution_count": 2,
     "metadata": {},
     "output_type": "execute_result"
    }
   ],
   "source": [
    "# The memory usage of dataframe in 100 rows \n",
    "memory_hundreds = pd.read_csv('Datasets/CarPrice_Assignment.csv', nrows=100)\n",
    "memory_hundreds.memory_usage(deep=True).sum() / (2**20)"
   ]
  },
  {
   "cell_type": "markdown",
   "id": "ae774e0a",
   "metadata": {},
   "source": [
    "## 3.2 Calculate total memory usage \n",
    "\n",
    "Given that the dataset's 100 rows consume 0.07MB of memory, i can expect chunks of 50 rows to consume 0.035MB. Because available memory usage is 0.05MB, it is good to consume less than 35% of available memory."
   ]
  },
  {
   "cell_type": "code",
   "execution_count": 3,
   "id": "ed398e15",
   "metadata": {},
   "outputs": [
    {
     "name": "stdout",
     "output_type": "stream",
     "text": [
      "0.035719871520996094\n",
      "0.03585243225097656\n",
      "0.03571033477783203\n",
      "0.03588104248046875\n",
      "0.0036773681640625\n"
     ]
    }
   ],
   "source": [
    "chunk_iter = pd.read_csv('Datasets/CarPrice_Assignment.csv', chunksize=50)\n",
    "\n",
    "for chunk in chunk_iter: \n",
    "    print(chunk.memory_usage(deep=True).sum() / 2**20)"
   ]
  },
  {
   "cell_type": "markdown",
   "id": "059fb50c",
   "metadata": {},
   "source": [
    "## 3.3 Explore dataset in Chunks\n",
    "\n",
    "**Total number of rows**"
   ]
  },
  {
   "cell_type": "code",
   "execution_count": 4,
   "id": "32c4013e",
   "metadata": {},
   "outputs": [
    {
     "name": "stdout",
     "output_type": "stream",
     "text": [
      "205 26\n"
     ]
    }
   ],
   "source": [
    "chunk_iter = pd.read_csv('Datasets/CarPrice_Assignment.csv', chunksize=50)\n",
    "\n",
    "nrow = 0\n",
    "for chunk in chunk_iter: \n",
    "    nrow += len(chunk) \n",
    "    ncol = len(chunk.columns)\n",
    "\n",
    "print(nrow, ncol)"
   ]
  },
  {
   "cell_type": "markdown",
   "id": "8ec2bda9",
   "metadata": {},
   "source": [
    "There are 205 rows and 26 columns in carprice dataframe. "
   ]
  },
  {
   "cell_type": "markdown",
   "id": "557f96b9",
   "metadata": {},
   "source": [
    "**The number of columns by datatype**"
   ]
  },
  {
   "cell_type": "code",
   "execution_count": 5,
   "id": "88de361a",
   "metadata": {},
   "outputs": [
    {
     "name": "stdout",
     "output_type": "stream",
     "text": [
      "Number of numerical columns : [16, 16, 16, 16, 16]\n",
      "Number of object columns : [10, 10, 10, 10, 10]\n"
     ]
    }
   ],
   "source": [
    "chunk_iter = pd.read_csv('Datasets/CarPrice_Assignment.csv', chunksize=50)\n",
    "\n",
    "num_numerical_columns = []\n",
    "num_object_columns = []\n",
    "for chunk in chunk_iter:\n",
    "    numerical_columns = chunk.select_dtypes(exclude = ['object']).columns\n",
    "    num_numerical_columns.append(len(numerical_columns))\n",
    "    object_columns = chunk.select_dtypes(include = ['object']).columns\n",
    "    num_object_columns.append(len(object_columns))\n",
    "    \n",
    "print(f\"Number of numerical columns : {num_numerical_columns}\")\n",
    "print(f\"Number of object columns : {num_object_columns}\")"
   ]
  },
  {
   "cell_type": "code",
   "execution_count": 6,
   "id": "df057361",
   "metadata": {},
   "outputs": [
    {
     "name": "stdout",
     "output_type": "stream",
     "text": [
      "Columns in numerical_columns : Index(['car_ID', 'symboling', 'wheelbase', 'carlength', 'carwidth',\n",
      "       'carheight', 'curbweight', 'enginesize', 'boreratio', 'stroke',\n",
      "       'compressionratio', 'horsepower', 'peakrpm', 'citympg', 'highwaympg',\n",
      "       'price'],\n",
      "      dtype='object')\n",
      "Columns in object_columns : Index(['CarName', 'fueltype', 'aspiration', 'doornumber', 'carbody',\n",
      "       'drivewheel', 'enginelocation', 'enginetype', 'cylindernumber',\n",
      "       'fuelsystem'],\n",
      "      dtype='object')\n"
     ]
    }
   ],
   "source": [
    "print(f\"Columns in numerical_columns : {numerical_columns}\")\n",
    "print(f\"Columns in object_columns : {object_columns}\")"
   ]
  },
  {
   "cell_type": "markdown",
   "id": "2bf27c24",
   "metadata": {},
   "source": [
    "# 4. Check columns for optimizing\n",
    "\n",
    "The next step is finding columns need to be optimizing. The workflow of check columns for optimizing is same as below : \n",
    "\n",
    "- Check unique values in each object columns. (Find object columns contain values that are less than 50% unique) \n",
    "- Check candidates for conversion to the integer type and have no missing values. \n",
    "\n",
    "## 4.1 Check object columns "
   ]
  },
  {
   "cell_type": "code",
   "execution_count": 7,
   "id": "1aba6054",
   "metadata": {},
   "outputs": [
    {
     "data": {
      "text/plain": [
       "fuelsystem        8\n",
       "enginetype        7\n",
       "cylindernumber    7\n",
       "carbody           5\n",
       "drivewheel        3\n",
       "fueltype          2\n",
       "aspiration        2\n",
       "doornumber        2\n",
       "enginelocation    2\n",
       "dtype: int64"
      ]
     },
     "execution_count": 7,
     "metadata": {},
     "output_type": "execute_result"
    }
   ],
   "source": [
    "# Count number of unique values in object columns \n",
    "chunk_iter = pd.read_csv('Datasets/CarPrice_Assignment.csv', chunksize=50)\n",
    "\n",
    "unique_series = {}\n",
    "for chunk in chunk_iter : \n",
    "    object_df = chunk.select_dtypes(include = ['object'])\n",
    "    object_columns = object_df.columns\n",
    "    for col in object_columns : \n",
    "        col_unique = chunk[col].value_counts() \n",
    "        if col in unique_series : \n",
    "            unique_series[col].append(col_unique)\n",
    "        else : \n",
    "            unique_series[col] = [col_unique]\n",
    "\n",
    "nunique_series = {} \n",
    "for col in unique_series : \n",
    "    col_concat = pd.concat(unique_series[col])\n",
    "    col_group = col_concat.groupby(col_concat.index).sum()\n",
    "    nunique_series[col] = len(col_group)\n",
    "\n",
    "nunique_series = pd.Series(nunique_series).sort_values(ascending = False)\n",
    "nunique_series[nunique_series <= 50]"
   ]
  },
  {
   "cell_type": "markdown",
   "id": "6a12e62f",
   "metadata": {},
   "source": [
    "To optimize loan dataframe, above columns need to be covert in category data type."
   ]
  },
  {
   "cell_type": "markdown",
   "id": "6d8d18f8",
   "metadata": {},
   "source": [
    "## 4.2 Check numerical columns"
   ]
  },
  {
   "cell_type": "code",
   "execution_count": 8,
   "id": "b6305d43",
   "metadata": {},
   "outputs": [
    {
     "data": {
      "text/plain": [
       "boreratio           0\n",
       "car_ID              0\n",
       "carheight           0\n",
       "carlength           0\n",
       "carwidth            0\n",
       "citympg             0\n",
       "compressionratio    0\n",
       "curbweight          0\n",
       "enginesize          0\n",
       "highwaympg          0\n",
       "horsepower          0\n",
       "peakrpm             0\n",
       "price               0\n",
       "stroke              0\n",
       "symboling           0\n",
       "wheelbase           0\n",
       "dtype: int64"
      ]
     },
     "execution_count": 8,
     "metadata": {},
     "output_type": "execute_result"
    }
   ],
   "source": [
    "# Check columns have no missing values \n",
    "chunk_iter = pd.read_csv('Datasets/CarPrice_Assignment.csv', chunksize = 3000)\n",
    "\n",
    "missing = []\n",
    "for chunk in chunk_iter : \n",
    "    numeric_df = chunk.select_dtypes(exclude = ['object'])\n",
    "    missing.append(numeric_df.isnull().sum())\n",
    "\n",
    "missing_series = pd.concat(missing)\n",
    "missing_series = missing_series.groupby(missing_series.index).sum().sort_values(ascending = False)\n",
    "missing_series"
   ]
  },
  {
   "cell_type": "markdown",
   "id": "d1880ad9",
   "metadata": {},
   "source": [
    "## 4.3 Calculate memory usage across all chunks"
   ]
  },
  {
   "cell_type": "code",
   "execution_count": 9,
   "id": "6c09ad65",
   "metadata": {},
   "outputs": [
    {
     "name": "stdout",
     "output_type": "stream",
     "text": [
      "Memory usage of object columns : 0.122MB\n",
      "Memory usage of numeric columns : 0.026MB\n",
      "Memory usage of total columns : 0.147MB\n"
     ]
    }
   ],
   "source": [
    "# Check memory usage of object columns \n",
    "chunk_iter = pd.read_csv('Datasets/CarPrice_Assignment.csv', chunksize = 50)\n",
    "\n",
    "object_memory = 0\n",
    "numeric_memory = 0\n",
    "total_memory = 0\n",
    "for chunk in chunk_iter :\n",
    "    object_df = chunk.select_dtypes(include = ['object'])\n",
    "    numeric_df = chunk.select_dtypes(exclude = ['object'])\n",
    "    object_memory += object_df.memory_usage(deep = True).sum()/(2**20)\n",
    "    numeric_memory += numeric_df.memory_usage(deep = True).sum()/(2**20)\n",
    "    total_memory += chunk.memory_usage(deep = True).sum()/(2**20)\n",
    "    \n",
    "print(f\"Memory usage of object columns : {round(object_memory, 3)}MB\")\n",
    "print(f\"Memory usage of numeric columns : {round(numeric_memory, 3)}MB\")\n",
    "print(f\"Memory usage of total columns : {round(total_memory, 3)}MB\")"
   ]
  },
  {
   "cell_type": "markdown",
   "id": "820e1cdb",
   "metadata": {},
   "source": [
    "# 5. Optimizing Datasets"
   ]
  },
  {
   "cell_type": "markdown",
   "id": "60ded54a",
   "metadata": {},
   "source": [
    "## 5.1 Object columns "
   ]
  },
  {
   "cell_type": "code",
   "execution_count": 10,
   "id": "94e72fe5",
   "metadata": {
    "scrolled": false
   },
   "outputs": [
    {
     "name": "stdout",
     "output_type": "stream",
     "text": [
      "Nissan versa                       1\n",
      "alfa-romero Quadrifoglio           1\n",
      "alfa-romero giulia                 1\n",
      "alfa-romero stelvio                1\n",
      "audi 100 ls                        1\n",
      "audi 100ls                         2\n",
      "audi 4000                          1\n",
      "audi 5000                          1\n",
      "audi 5000s (diesel)                1\n",
      "audi fox                           1\n",
      "bmw 320i                           2\n",
      "bmw x1                             1\n",
      "bmw x3                             2\n",
      "bmw x4                             1\n",
      "bmw x5                             1\n",
      "bmw z4                             1\n",
      "buick century                      1\n",
      "buick century luxus (sw)           1\n",
      "buick century special              1\n",
      "buick electra 225 custom           1\n",
      "buick opel isuzu deluxe            1\n",
      "buick regal sport coupe (turbo)    1\n",
      "buick skyhawk                      1\n",
      "buick skylark                      1\n",
      "chevrolet impala                   1\n",
      "chevrolet monte carlo              1\n",
      "chevrolet vega 2300                1\n",
      "dodge challenger se                1\n",
      "dodge colt (sw)                    1\n",
      "dodge colt hardtop                 1\n",
      "dodge coronet custom               1\n",
      "dodge coronet custom (sw)          1\n",
      "dodge d200                         1\n",
      "dodge dart custom                  1\n",
      "dodge monaco (sw)                  1\n",
      "dodge rampage                      1\n",
      "honda accord                       2\n",
      "honda accord cvcc                  1\n",
      "honda accord lx                    1\n",
      "honda civic                        3\n",
      "honda civic (auto)                 1\n",
      "honda civic 1300                   1\n",
      "honda civic 1500 gl                1\n",
      "honda civic cvcc                   2\n",
      "honda prelude                      1\n",
      "isuzu D-Max                        2\n",
      "isuzu D-Max V-Cross                1\n",
      "isuzu MU-X                         1\n",
      "jaguar xf                          1\n",
      "jaguar xj                          1\n",
      "jaguar xk                          1\n",
      "maxda glc deluxe                   1\n",
      "maxda rx3                          1\n",
      "mazda 626                          3\n",
      "mazda glc                          2\n",
      "mazda glc 4                        1\n",
      "mazda glc custom                   1\n",
      "mazda glc custom l                 1\n",
      "mazda glc deluxe                   2\n",
      "mazda rx-4                         2\n",
      "mazda rx-7 gs                      2\n",
      "mazda rx2 coupe                    1\n",
      "mercury cougar                     1\n",
      "mitsubishi g4                      3\n",
      "mitsubishi lancer                  1\n",
      "mitsubishi mirage                  1\n",
      "mitsubishi mirage g4               3\n",
      "mitsubishi montero                 1\n",
      "mitsubishi outlander               3\n",
      "mitsubishi pajero                  1\n",
      "nissan clipper                     2\n",
      "nissan dayz                        1\n",
      "nissan fuga                        1\n",
      "nissan gt-r                        1\n",
      "nissan juke                        1\n",
      "nissan kicks                       1\n",
      "nissan latio                       2\n",
      "nissan leaf                        1\n",
      "nissan note                        1\n",
      "nissan nv200                       1\n",
      "nissan otti                        1\n",
      "nissan rogue                       2\n",
      "nissan teana                       1\n",
      "nissan titan                       1\n",
      "peugeot 304                        1\n",
      "peugeot 504                        6\n",
      "peugeot 504 (sw)                   1\n",
      "peugeot 505s turbo diesel          1\n",
      "peugeot 604sl                      2\n",
      "plymouth cricket                   1\n",
      "plymouth duster                    1\n",
      "plymouth fury gran sedan           1\n",
      "plymouth fury iii                  2\n",
      "plymouth satellite custom (sw)     1\n",
      "plymouth valiant                   1\n",
      "porcshce panamera                  1\n",
      "porsche boxter                     1\n",
      "porsche cayenne                    2\n",
      "porsche macan                      1\n",
      "renault 12tl                       1\n",
      "renault 5 gtl                      1\n",
      "saab 99e                           2\n",
      "saab 99gle                         2\n",
      "saab 99le                          2\n",
      "subaru                             2\n",
      "subaru baja                        1\n",
      "subaru brz                         1\n",
      "subaru dl                          4\n",
      "subaru r1                          1\n",
      "subaru r2                          1\n",
      "subaru trezia                      1\n",
      "subaru tribeca                     1\n",
      "toyota carina                      1\n",
      "toyota celica gt                   1\n",
      "toyota celica gt liftback          1\n",
      "toyota corolla                     6\n",
      "toyota corolla 1200                2\n",
      "toyota corolla 1600 (sw)           1\n",
      "toyota corolla liftback            2\n",
      "toyota corolla tercel              1\n",
      "toyota corona                      6\n",
      "toyota corona hardtop              1\n",
      "toyota corona liftback             1\n",
      "toyota corona mark ii              1\n",
      "toyota cressida                    1\n",
      "toyota mark ii                     3\n",
      "toyota starlet                     2\n",
      "toyota tercel                      1\n",
      "toyouta tercel                     1\n",
      "vokswagen rabbit                   1\n",
      "volkswagen 1131 deluxe sedan       1\n",
      "volkswagen 411 (sw)                1\n",
      "volkswagen dasher                  2\n",
      "volkswagen model 111               1\n",
      "volkswagen rabbit                  1\n",
      "volkswagen rabbit custom           1\n",
      "volkswagen super beetle            1\n",
      "volkswagen type 3                  1\n",
      "volvo 144ea                        2\n",
      "volvo 145e (sw)                    2\n",
      "volvo 244dl                        2\n",
      "volvo 245                          1\n",
      "volvo 246                          1\n",
      "volvo 264gl                        2\n",
      "volvo diesel                       1\n",
      "vw dasher                          1\n",
      "vw rabbit                          1\n",
      "Name: CarName, dtype: int64\n",
      "diesel     20\n",
      "gas       185\n",
      "Name: fueltype, dtype: int64\n",
      "std      168\n",
      "turbo     37\n",
      "Name: aspiration, dtype: int64\n",
      "four    115\n",
      "two      90\n",
      "Name: doornumber, dtype: int64\n",
      "convertible     6\n",
      "hardtop         8\n",
      "hatchback      70\n",
      "sedan          96\n",
      "wagon          25\n",
      "Name: carbody, dtype: int64\n",
      "4wd      9\n",
      "fwd    120\n",
      "rwd     76\n",
      "Name: drivewheel, dtype: int64\n",
      "front    202\n",
      "rear       3\n",
      "Name: enginelocation, dtype: int64\n",
      "dohc      12\n",
      "dohcv      1\n",
      "l         12\n",
      "ohc      148\n",
      "ohcf      15\n",
      "ohcv      13\n",
      "rotor      4\n",
      "Name: enginetype, dtype: int64\n",
      "eight       5\n",
      "five       11\n",
      "four      159\n",
      "six        24\n",
      "three       1\n",
      "twelve      1\n",
      "two         4\n",
      "Name: cylindernumber, dtype: int64\n",
      "1bbl    11\n",
      "2bbl    66\n",
      "4bbl     3\n",
      "idi     20\n",
      "mfi      1\n",
      "mpfi    94\n",
      "spdi     9\n",
      "spfi     1\n",
      "Name: fuelsystem, dtype: int64\n"
     ]
    }
   ],
   "source": [
    "# Check unique value in object columns \n",
    "chunk_iter = pd.read_csv('Datasets/CarPrice_Assignment.csv', chunksize = 50)\n",
    "\n",
    "unique_series = {}\n",
    "for chunk in chunk_iter : \n",
    "    object_df = chunk.select_dtypes(include = ['object'])\n",
    "    object_columns = object_df.columns\n",
    "    for col in object_columns : \n",
    "        col_unique = chunk[col].value_counts() \n",
    "        if col in unique_series : \n",
    "            unique_series[col].append(col_unique)\n",
    "        else : \n",
    "            unique_series[col] = [col_unique]\n",
    "\n",
    "for col in unique_series : \n",
    "    col_concat = pd.concat(unique_series[col])\n",
    "    col_group = col_concat.groupby(col_concat.index).sum()\n",
    "    print(col_group)"
   ]
  },
  {
   "cell_type": "markdown",
   "id": "7ce51905",
   "metadata": {},
   "source": [
    "We will convert following columns into categorical data types : fuelsystem, enginetype, cylindernumber, carbody, drivewheel, fueltype, aspiration, doornumber, enginelocation. "
   ]
  },
  {
   "cell_type": "code",
   "execution_count": 11,
   "id": "b9496186",
   "metadata": {},
   "outputs": [
    {
     "name": "stdout",
     "output_type": "stream",
     "text": [
      "Previous total memory : 0.14684104919433594\n",
      "Current total memory : 0.054MB\n"
     ]
    }
   ],
   "source": [
    "# Convert object type to category\n",
    "print(f\"Previous total memory : {total_memory}\")\n",
    "\n",
    "cat_cols = ['fuelsystem', 'enginetype', 'cylindernumber', 'carbody', 'drivewheel', 'fueltype', 'aspiration', 'doornumber', 'enginelocation']\n",
    "chunk_iter = chunk_iter = pd.read_csv('Datasets/CarPrice_Assignment.csv', chunksize = 50)\n",
    "total_memory = 0\n",
    "for chunk in chunk_iter: \n",
    "    for col in cat_cols: \n",
    "        chunk[col] = chunk[col].astype('category') \n",
    "    total_memory += chunk.memory_usage(deep=True).sum() / 2**20\n",
    "    \n",
    "print(f\"Current total memory : {round(total_memory,3)}MB\")"
   ]
  },
  {
   "cell_type": "markdown",
   "id": "13f917a2",
   "metadata": {},
   "source": [
    "# 6. Check optimized data types"
   ]
  },
  {
   "cell_type": "code",
   "execution_count": 12,
   "id": "0ab1772f",
   "metadata": {},
   "outputs": [
    {
     "data": {
      "text/plain": [
       "car_ID                 int64\n",
       "symboling              int64\n",
       "CarName               object\n",
       "fueltype            category\n",
       "aspiration          category\n",
       "doornumber          category\n",
       "carbody             category\n",
       "drivewheel          category\n",
       "enginelocation      category\n",
       "wheelbase            float64\n",
       "carlength            float64\n",
       "carwidth             float64\n",
       "carheight            float64\n",
       "curbweight             int64\n",
       "enginetype          category\n",
       "cylindernumber      category\n",
       "enginesize             int64\n",
       "fuelsystem          category\n",
       "boreratio            float64\n",
       "stroke               float64\n",
       "compressionratio     float64\n",
       "horsepower             int64\n",
       "peakrpm                int64\n",
       "citympg                int64\n",
       "highwaympg             int64\n",
       "price                  int64\n",
       "dtype: object"
      ]
     },
     "execution_count": 12,
     "metadata": {},
     "output_type": "execute_result"
    }
   ],
   "source": [
    "chunk.dtypes"
   ]
  }
 ],
 "metadata": {
  "kernelspec": {
   "display_name": "Python 3",
   "language": "python",
   "name": "python3"
  },
  "language_info": {
   "codemirror_mode": {
    "name": "ipython",
    "version": 3
   },
   "file_extension": ".py",
   "mimetype": "text/x-python",
   "name": "python",
   "nbconvert_exporter": "python",
   "pygments_lexer": "ipython3",
   "version": "3.8.8"
  },
  "toc": {
   "base_numbering": 1,
   "nav_menu": {},
   "number_sections": false,
   "sideBar": true,
   "skip_h1_title": false,
   "title_cell": "Table of Contents",
   "title_sidebar": "Contents",
   "toc_cell": false,
   "toc_position": {},
   "toc_section_display": true,
   "toc_window_display": true
  },
  "varInspector": {
   "cols": {
    "lenName": 16,
    "lenType": 16,
    "lenVar": 40
   },
   "kernels_config": {
    "python": {
     "delete_cmd_postfix": "",
     "delete_cmd_prefix": "del ",
     "library": "var_list.py",
     "varRefreshCmd": "print(var_dic_list())"
    },
    "r": {
     "delete_cmd_postfix": ") ",
     "delete_cmd_prefix": "rm(",
     "library": "var_list.r",
     "varRefreshCmd": "cat(var_dic_list()) "
    }
   },
   "types_to_exclude": [
    "module",
    "function",
    "builtin_function_or_method",
    "instance",
    "_Feature"
   ],
   "window_display": false
  }
 },
 "nbformat": 4,
 "nbformat_minor": 5
}
