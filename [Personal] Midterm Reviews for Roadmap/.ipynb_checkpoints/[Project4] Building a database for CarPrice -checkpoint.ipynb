{
 "cells": [
  {
   "cell_type": "markdown",
   "id": "16707df0",
   "metadata": {},
   "source": [
    "# <center> Building a database for CarPrice \n",
    "   "
   ]
  },
  {
   "cell_type": "markdown",
   "id": "8c38830a",
   "metadata": {},
   "source": [
    "# 1. Introduction \n",
    "\n",
    "## 1.1 Problem Statement \n",
    "\n",
    "A Chinese automobile company Geely Auto aspires to enter the US market by setting up their manufacturing unit there and producing cars locally to give competition to their US and European counterparts.\n",
    "\n",
    "They have contracted an automobile consulting company to unsderstand the factors on which the pricing of cars depends. Specifically, they want to understand the factors affecting the pricing of cars in the American market, since those may be very different from the Chinese market.\n",
    "\n",
    "The company wants to know :\n",
    "\n",
    "- Which variables are significant in predicting the price of a car.\n",
    "- How well those variables describes the price of car.\n",
    "- Based on various market surveys, the consulting firm has gathered a large data set of different types of cars across American market.\n",
    "\n",
    "## 1.2 What is Postgres? \n",
    "\n",
    "**Relational Database Management System(RDBMS)** is a set of software tools that allow multiple users to access data within a database. DBMS allow users or other programs to process and responds appropriately to use data. \n",
    "\n",
    "For SQLite, only a single process is allowed to write to the database (It only process query statement one by one.). Therefore, there is a limit to working with the data environment or other users within the organization. \n",
    "\n",
    "**PostgreSQL** is a relational database management system that emphasize scalability and compliance with standard and its primary function as a database server is to securely store data and return it when it responds to requests from other application source software. It can manage multiple loads, from small single-machine application to larget internet application with numerous concurrent users. \n",
    "\n",
    "Postgres, which work as a server, allows multiple users to access data when writing different types of query statements. Postgres uses server-client model which a plurality of users may access the database through the server, simultaneously perform different query statements, and check the results. \n",
    "\n",
    "## 1.3 Data Descriptions \n",
    "\n",
    "| |Features|Description|\n",
    "|:---:|:---:|:---:| \n",
    "|1|Car_ID| Unique id of each observation (Integer) | \n",
    "|2|Symboling| Its assigned insurance risk rating, A value of +3 indicates that the auto is risky, -3 that it is probably pretty safe (Categorical) |\n",
    "|3|carCompany| Name of car company (Categorical) |\n",
    "|4|fueltype| Car fuel type i.e. gas or disel (Categorical) | \n",
    "|5|aspiration| Aspiration used in a car (Categorical) |\n",
    "|7|carbody|\tbody of car (Categorical) | \n",
    "|8|drivewheel| type of drive wheel (Categorical) | \n",
    "|9|\tenginelocation|\tLocation of car engine (Categorical) | \n",
    "|10|wheelbase| Weelbase of car (Numeric) | \n",
    "|11|carlength| Length of car (Numeric) | \n",
    "|12|carwidth| Width of car (Numeric) | \n",
    "|13|carheight| height of car (Numeric) | \n",
    "|14|curbweight|\tThe weight of a car without occupants or baggage. (Numeric) | \n",
    "|15|enginetype|\tType of engine. (Categorical) | \n",
    "|16|cylindernumber|\tcylinder placed in the car (Categorical) | \n",
    "|17|enginesize|\tSize of car (Numeric) | \n",
    "|18|fuelsystem|\tFuel system of car (Categorical) |\n",
    "|19|boreratio| Boreratio of car (Numeric) | \n",
    "|20|stroke|\tStroke or volume inside the engine (Numeric) | \n",
    "|21|compressionratio| compression ratio of car (Numeric) | \n",
    "|22|horsepower|\tHorsepower (Numeric) | \n",
    "|23|peakrpm| car peak rpm (Numeric) | \n",
    "|24|citympg| Mileage in city (Numeric) | \n",
    "|25|highwaympg|\tMileage on highway (Numeric) | \n",
    "|26|price(Dependent variable)| Price of car (Numeric) | \n",
    "\n",
    "## 1.4 Source of Data \n",
    "\n",
    "- **Competition** : https://www.kaggle.com/datasets/hellbuoy/car-price-prediction   \n",
    "- **Source**: https://archive.ics.uci.edu/ml/datasets/Automobile"
   ]
  },
  {
   "cell_type": "markdown",
   "id": "f5cb7184",
   "metadata": {},
   "source": [
    "# 2. Purpose of this Project \n",
    "\n",
    "The goal of project is to create a database named 'carprice_db' with a table - carprice - with appropriate datatypes for storing the data from the 'CarPrice_Assignment.csv' file. In this project, i will be creating the table inside a schema named cars. And also, i will create the readonly and readwrite groups with appropriate privileges. "
   ]
  },
  {
   "cell_type": "markdown",
   "id": "a7108cc9",
   "metadata": {},
   "source": [
    "# 3. Create Database and Schema \n",
    "\n",
    "I will start by creating a database for storing my car price data as well as schema for containing the table. \n",
    "\n",
    "- Database : carprice_db \n",
    "- Schema : cars\n",
    "\n",
    "```Python\n",
    "import psycopg2\n",
    "conn = psycopg2.connect(dbname='db', user='db') \n",
    "conn.autocommit = True \n",
    "cursor = conn.cursor() \n",
    "\n",
    "# Create database named carprice_db\n",
    "cursor.execute(\"CREATE DATABASE carprice_db OWNER db;\") \n",
    "conn.close() \n",
    "\n",
    "# Connect to the carprice_db and create schema named cars\n",
    "conn = psycopg2.connect(dbname=\"carprice_db\", user=\"db\") \n",
    "conn.autocommit = True \n",
    "cursor = conn.cursor() \n",
    "\n",
    "cursor.execute(\"CREATE SCHEMA cars;\") \n",
    "```"
   ]
  },
  {
   "cell_type": "markdown",
   "id": "79c0389c",
   "metadata": {},
   "source": [
    "# 4. Read Datasets \n",
    "\n",
    "Before i starts creating table, i need to gather some data about 'CarPrice_Assignment.csv'."
   ]
  },
  {
   "cell_type": "code",
   "execution_count": 4,
   "id": "8359e458",
   "metadata": {},
   "outputs": [
    {
     "name": "stdout",
     "output_type": "stream",
     "text": [
      "Headers : ['car_ID', 'symboling', 'CarName', 'fueltype', 'aspiration', 'doornumber', 'carbody', 'drivewheel', 'enginelocation', 'wheelbase', 'carlength', 'carwidth', 'carheight', 'curbweight', 'enginetype', 'cylindernumber', 'enginesize', 'fuelsystem', 'boreratio', 'stroke', 'compressionratio', 'horsepower', 'peakrpm', 'citympg', 'highwaympg', 'price']\n"
     ]
    }
   ],
   "source": [
    "import csv \n",
    "\n",
    "with open('Datasets/CarPrice_Assignment.csv') as file: \n",
    "    reader = csv.reader(file) \n",
    "    rows = [row for row in reader] \n",
    "    col_headers = rows[0]\n",
    "    first_rows = rows[1] \n",
    "    \n",
    "print(f\"Headers : {col_headers}\")"
   ]
  },
  {
   "cell_type": "markdown",
   "id": "d89c6624",
   "metadata": {},
   "source": [
    "# 5. Check number and length of values in columns \n",
    "\n",
    "I need to identify the proper datatypes for the columns. To help me with that, i will use a function get_col_set that, given the name of CSV file and a column index starting from 0, computes a Python set with all distinct values contained in that column. \n",
    "\n",
    "- Checking whether an enumerated datatype migh be a good choice for representing a column. \n",
    "- Computing the maximum length of any text-like column to select appropriate sizes for VARCHAR columns "
   ]
  },
  {
   "cell_type": "code",
   "execution_count": 5,
   "id": "aeb29da2",
   "metadata": {},
   "outputs": [
    {
     "name": "stdout",
     "output_type": "stream",
     "text": [
      "The number of car_ID : 206\n",
      "The number of symboling : 7\n",
      "The number of CarName : 148\n",
      "The number of fueltype : 3\n",
      "The number of aspiration : 3\n",
      "The number of doornumber : 3\n",
      "The number of carbody : 6\n",
      "The number of drivewheel : 4\n",
      "The number of enginelocation : 3\n",
      "The number of wheelbase : 54\n",
      "The number of carlength : 76\n",
      "The number of carwidth : 45\n",
      "The number of carheight : 50\n",
      "The number of curbweight : 172\n",
      "The number of enginetype : 8\n",
      "The number of cylindernumber : 8\n",
      "The number of enginesize : 45\n",
      "The number of fuelsystem : 9\n",
      "The number of boreratio : 39\n",
      "The number of stroke : 38\n",
      "The number of compressionratio : 33\n",
      "The number of horsepower : 60\n",
      "The number of peakrpm : 24\n",
      "The number of citympg : 30\n",
      "The number of highwaympg : 31\n",
      "The number of price : 190\n"
     ]
    }
   ],
   "source": [
    "def get_col_set(csv_filename, col_index): \n",
    "    col_set = set() \n",
    "    with open(csv_filename) as file: \n",
    "        reader = csv.reader(file) \n",
    "        for row in reader: \n",
    "            val = row[col_index]\n",
    "            if val not in col_set: \n",
    "                col_set.add(val) \n",
    "                \n",
    "    return col_set \n",
    "\n",
    "# Compute each of columns the number of different values it comes \n",
    "for num in range(len(col_headers)) : \n",
    "    num_val = len(get_col_set('Datasets/CarPrice_Assignment.csv', num))\n",
    "    print(f\"The number of {col_headers[num]} : {num_val}\")"
   ]
  },
  {
   "cell_type": "markdown",
   "id": "7593a6cb",
   "metadata": {},
   "source": [
    "There are some columns with a low number of distinct values fueltype, aspiration, doornumber, carbody, drivewheel, enginelocation, enginetype, cylindernumber. "
   ]
  },
  {
   "cell_type": "markdown",
   "id": "3052cc85",
   "metadata": {},
   "source": [
    "# 6. Create table : carprice \n",
    "\n",
    "Now i will create a table name 'carprice' inside the cars schema of carprice_db database. I will change the type of column fueltype, aspiration, carbody, drivewheel, enginelocation, enginetype to enumerated type. Each of column names and data type when i create table is such as below : \n",
    "\n",
    "| |Features|Description|\n",
    "|:---:|:---:|:---:| \n",
    "|1|Car_ID| VARCHAR | \n",
    "|2|Symboling| INTEGER |\n",
    "|3|carCompany| VARCHAR |\n",
    "|4|fueltype| ENUM | \n",
    "|5|aspiration| ENUM |\n",
    "|7|carbody|\tENUM | \n",
    "|8|drivewheel| ENUM | \n",
    "|9|\tenginelocation|\tENUM | \n",
    "|10|wheelbase| FLOAT | \n",
    "|11|carlength| FLOAT | \n",
    "|12|carwidth| FLOAT | \n",
    "|13|carheight| FLOAT | \n",
    "|14|curbweight|\tFLOAT | \n",
    "|15|enginetype|\tENUM | \n",
    "|16|cylindernumber|\tINTEGER | \n",
    "|17|enginesize|\tFLOAT | \n",
    "|18|fuelsystem|\tVARCHAR |\n",
    "|19|boreratio| FLOAT | \n",
    "|20|stroke|\tFLOAT | \n",
    "|21|compressionratio| FLOAT | \n",
    "|22|horsepower|\tFLOAT | \n",
    "|23|peakrpm| FLOAT | \n",
    "|24|citympg| FLOAT | \n",
    "|25|highwaympg|\tFLOAT | \n",
    "|26|price(Dependent variable)| FLOAT | "
   ]
  },
  {
   "cell_type": "markdown",
   "id": "fb5a4a2a",
   "metadata": {},
   "source": [
    "```Python\n",
    "# Create ENUM data type \n",
    "enum_cols = ['fueltype', 'aspiration', 'doornumber', 'carbody', 'drivewheel', 'enginelocation', 'enginetype', 'cylindernumber']\n",
    "\n",
    "import psycopg2.extensions import AsIs \n",
    "for col in enum_cols: \n",
    "    unique_values = []\n",
    "    col_idx = col_headers.index(col) \n",
    "    for row in rows: \n",
    "        if row[col_idx] not in unique_values: \n",
    "            unique_values.append(row[col_idx]) \n",
    "    cursor.execute(\"CREATE TYPE {}, AS ENUM({});\", (AsIs(col, unique_values))\n",
    "        \n",
    "# Create table carprice \n",
    "cursor.execute(\"\"\"\n",
    "    CREATE TABLE cars.carprice (\n",
    "        Car_ID \tVARCHAR,\n",
    "        Symboling \tINTEGER,\n",
    "        carCompany \tVARCHAR,\n",
    "        fueltype fueltype,\n",
    "        aspiration aspiration,\n",
    "        carbody carbody,\n",
    "        drivewheel \tdrivewheel,\n",
    "        enginelocation \tenginelocation,\n",
    "        wheelbase \tFLOAT,\n",
    "        carlength \tFLOAT,\n",
    "        carwidth \tFLOAT,\n",
    "        carheight \tFLOAT\n",
    "        curbweight \tFLOAT\n",
    "        enginetype \tenginetype\n",
    "        cylindernumber \tINTEGER\n",
    "        enginesize \tFLOAT\n",
    "        fuelsystem \tVARCHAR\n",
    "        boreratio \tFLOAT\n",
    "        stroke \tFLOAT\n",
    "        compressionratio \tFLOAT\n",
    "        horsepower \tFLOAT\n",
    "        peakrpm \tFLOAT\n",
    "        citympg \tFLOAT\n",
    "        highwaympg \tFLOAT\n",
    "        price(Dependent variable) \tFLOAT\n",
    "        );\n",
    "\"\"\")\n",
    "```"
   ]
  },
  {
   "cell_type": "markdown",
   "id": "76cd7ce2",
   "metadata": {},
   "source": [
    "# 7. Load Data into carprice \n",
    "\n",
    "```Python\n",
    "with open('CarPrice_Assignment.csv') as file: \n",
    "    cursor.copy_expert(\"COPY cars.carprice FROM STDIN WITH CSV HEADER;\", file)\n",
    "    \n",
    "# Check the result \n",
    "cursor.execute(\"SELECT * FROM cars.carprice LIMIT 1;\") \n",
    "carprice = cursor.fetchall() \n",
    "print(carprice) \n",
    "```"
   ]
  },
  {
   "cell_type": "markdown",
   "id": "8a4facc7",
   "metadata": {},
   "source": [
    "# 8. Revoke public Privileges \n",
    "\n",
    "Our goal is to create tow user groups : readonly and readwrite.\n",
    "\n",
    "```Python\n",
    "cursor.execute(\"REVOKE ALL ON SCHEMA public FROM public;\") \n",
    "cursor.execute(\"REVOKE ALL ON DATABASE carprice_db FROM public;\") \n",
    "```"
   ]
  },
  {
   "cell_type": "markdown",
   "id": "9d100ff7",
   "metadata": {},
   "source": [
    "# 9. Creating readonly and readwrite group\n",
    "\n",
    "The readonly group is supposed to only have privileges to perform SELECT queries. In contrast, we want to readwrite group to be able to perform SELECT, INSERT, DELETE, and UPDATE queries. \n",
    "\n",
    "```Python\n",
    "# Creating readonly group and give privileges \n",
    "cursor.execute(\"CREATE GROUP readonly NOLOGIN;\") \n",
    "cursor.execute(\"GRANT CONNECT ON DATABASE carprice_db TO readonly;\") \n",
    "cursor.execute(\"GRANT USAGE ON SCHEMA cars TO readonly;\") \n",
    "cursor.execute(\"GRANT SELECT ON ALL TABLES IN SCHEMA cars TO readonly;\") \n",
    "\n",
    "# Creating readwrite group and give privileges\n",
    "cursor.execute(\"CREATE GROUP readwrite NOLOGIN;\") \n",
    "cursor.execute(\"GRANT CONNECT ON DATABASE carprice_db TO readwrite;\") \n",
    "cursor.execute(\"GRANT USAGE ON SCHEMA cars to readwrite;\") \n",
    "cursor.execute(\"GRANT SELECT, INSERT, UPDATE, DELETE ON ALL TABLES IN SCHEMA cars TO readwrite;\") \n",
    "```"
   ]
  },
  {
   "cell_type": "markdown",
   "id": "1d3fbaff",
   "metadata": {},
   "source": [
    "# 10. Create User \n",
    "\n",
    "We are nearly done with setting up our carprice database. The only thing that we need to do is create users. \n",
    "\n",
    "```Python\n",
    "cursor.execute(\"CREATE USER data_analyst WITH PASSWORD 'secret1';\")\n",
    "cursor.execute(\"GRANT readonly to data_analyst;\")\n",
    "\n",
    "cursor.execute(\"CREATE UESR data_scientist WITH PASSWORD 'secret2';\") \n",
    "cursor.execute(\"GRANT readwrite to data_scientist;\") \n",
    "```"
   ]
  },
  {
   "cell_type": "markdown",
   "id": "680e3b23",
   "metadata": {},
   "source": [
    "# 11. Test setting up the database \n",
    "\n",
    "We will use SQL queries whether the object have been created and that users are groups have the right privileges. We will query the pg_roles table to inspect privileges related to the database and the information_schema.table_privileges table to inspect table privileges. \n",
    "\n",
    "```Python\n",
    "# Close the old connection \n",
    "conn.close() \n",
    "\n",
    "# Open the new connection\n",
    "conn = psycopg2.connect(dbname=\"carprice_db\", user=\"db\") \n",
    "cursor = conn.cursor() \n",
    "\n",
    "# Check user and groups \n",
    "cursore.excute(\"\"\"\n",
    "    SELECT rolname, rolsuper, rolcreatedb, rolcanlogin FROM pg_roles \n",
    "     WHERE rolname IN ('readonly', 'readwrite', 'data_analyst', 'data_scientist');\n",
    "\"\"\")\n",
    "users = cursor.fetchall() \n",
    "\n",
    "for user in users: \n",
    "    print(user) \n",
    "    \n",
    "# Check privileges \n",
    "cursor.execute(\"\"\"\n",
    "    SELECT grantee, privileges_type FROM information_schema.table_privileges \n",
    "     WHERE grantee IN ('readonly', 'readwrite');\n",
    "\"\"\")\n",
    "privileges = cursor.fetchall()\n",
    "\n",
    "for privilege in privileges : \n",
    "    print(privilege)\n",
    "```"
   ]
  },
  {
   "cell_type": "code",
   "execution_count": null,
   "id": "3688460d",
   "metadata": {},
   "outputs": [],
   "source": []
  }
 ],
 "metadata": {
  "kernelspec": {
   "display_name": "Python 3",
   "language": "python",
   "name": "python3"
  },
  "language_info": {
   "codemirror_mode": {
    "name": "ipython",
    "version": 3
   },
   "file_extension": ".py",
   "mimetype": "text/x-python",
   "name": "python",
   "nbconvert_exporter": "python",
   "pygments_lexer": "ipython3",
   "version": "3.8.8"
  },
  "toc": {
   "base_numbering": 1,
   "nav_menu": {},
   "number_sections": false,
   "sideBar": true,
   "skip_h1_title": false,
   "title_cell": "Table of Contents",
   "title_sidebar": "Contents",
   "toc_cell": false,
   "toc_position": {},
   "toc_section_display": true,
   "toc_window_display": false
  },
  "varInspector": {
   "cols": {
    "lenName": 16,
    "lenType": 16,
    "lenVar": 40
   },
   "kernels_config": {
    "python": {
     "delete_cmd_postfix": "",
     "delete_cmd_prefix": "del ",
     "library": "var_list.py",
     "varRefreshCmd": "print(var_dic_list())"
    },
    "r": {
     "delete_cmd_postfix": ") ",
     "delete_cmd_prefix": "rm(",
     "library": "var_list.r",
     "varRefreshCmd": "cat(var_dic_list()) "
    }
   },
   "types_to_exclude": [
    "module",
    "function",
    "builtin_function_or_method",
    "instance",
    "_Feature"
   ],
   "window_display": false
  }
 },
 "nbformat": 4,
 "nbformat_minor": 5
}
